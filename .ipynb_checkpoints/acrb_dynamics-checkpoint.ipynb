{
 "cells": [
  {
   "cell_type": "code",
   "execution_count": 1,
   "metadata": {},
   "outputs": [],
   "source": [
    "import os\n",
    "import sys\n",
    "import numpy as np\n",
    "\n",
    "# These are a subset of the pycharmm modules that were installed when\n",
    "# pycharmm was installed in your python environment\n",
    "import pycharmm\n",
    "import pycharmm.generate as gen\n",
    "import pycharmm.ic as ic\n",
    "import pycharmm.coor as coor\n",
    "import pycharmm.energy as energy\n",
    "import pycharmm.dynamics as dyn\n",
    "import pycharmm.nbonds as nbonds\n",
    "import pycharmm.minimize as minimize\n",
    "import pycharmm.crystal as crystal\n",
    "import pycharmm.image as image\n",
    "import pycharmm.psf as psf\n",
    "import pycharmm.read as read\n",
    "import pycharmm.write as write\n",
    "import pycharmm.settings as settings\n",
    "import pycharmm.cons_harm as cons_harm\n",
    "import pycharmm.cons_fix as cons_fix\n",
    "import pycharmm.select as select\n",
    "import pycharmm.shake as shake\n",
    "\n",
    "from pycharmm.lib import charmm as libcharmm"
   ]
  },
  {
   "cell_type": "code",
   "execution_count": 2,
   "metadata": {},
   "outputs": [],
   "source": [
    "# Ensure that FFT grid is product of small primes 2, 3, 5\n",
    "def is_factor(n):\n",
    "    if (n % 2 != 0): return False  # favors even number\n",
    "    while n:\n",
    "        flag = False\n",
    "        for x in (2,3,5):\n",
    "            if n % x == 0:\n",
    "               n = n / x\n",
    "               flag = True\n",
    "               break\n",
    "\n",
    "        if flag: continue\n",
    "        break\n",
    "\n",
    "    if n == 1: return True\n",
    "    return False\n",
    "\n",
    "def checkfft(n, margin = 5):\n",
    "    n = int(n) + margin\n",
    "    while 1:\n",
    "        if is_factor(n): break\n",
    "        else: n += 1\n",
    "    return n"
   ]
  },
  {
   "cell_type": "code",
   "execution_count": 3,
   "metadata": {},
   "outputs": [],
   "source": [
    "def setup_PBC(boxhalf=0.0, protein_segments=[],solvent_resname='TIP3',ions=[],blade=False):\n",
    "    \"\"\"input: boxhalf [0.0]\n",
    "              solute  []\n",
    "              solvent_resname ['']\n",
    "              ions []\n",
    "              blade [False]\n",
    "    defines the periodic boundary conditions for a cubic volume of boxsize. \n",
    "    Uses: crystal_define_cubic(), crystal.build(), image.setup_residue,\n",
    "    image.setup_segment to construct symmetry operations. \n",
    "\n",
    "    If global variable openmm is true\n",
    "    the image centering is at [boxhalf,boxhalf,boxhalf] otherwise at [0,0,0].\n",
    "    \"\"\"\n",
    "    crystal.define_cubic(boxhalf*2)\n",
    "    crystal.build(boxhalf)\n",
    "\n",
    "    if blade: boxhalf = 0.0 # center at origin for blade\n",
    "    for segment in protein_segments:\n",
    "        image.setup_segment(boxhalf,boxhalf, boxhalf, segment)\n",
    "    if len(solvent_resname)>0: image.setup_residue(boxhalf,boxhalf, boxhalf, solvent_resname)\n",
    "    for ion in ions:\n",
    "        image.setup_residue(boxhalf, boxhalf, boxhalf, ion)\n",
    "    # for systems using centering not at origin, translate coordinates by halfbox\n",
    "    xyz = coor.get_positions()\n",
    "    xyz += boxhalf\n",
    "    coor.set_positions(xyz)\n",
    "    print('Coordinates translated by {} A in each dimension to be consistent with image centering'\\\n",
    "          .format(boxhalf))\n",
    "\n",
    "    return"
   ]
  },
  {
   "cell_type": "code",
   "execution_count": 4,
   "metadata": {},
   "outputs": [
    {
     "data": {
      "text/plain": [
       "1"
      ]
     },
     "execution_count": 4,
     "metadata": {},
     "output_type": "execute_result"
    }
   ],
   "source": [
    "# Read in the topology (rtf) and parameter file (prm) for proteins\n",
    "# equivalent to the CHARMM scripting command: read rtf card name toppar/top_all36_prot.rtf\n",
    "read.rtf('toppar/top_all36_prot.rtf')\n",
    "# equivalent to the CHARMM scripting command: read param card flexible name toppar/par_all36m_prot.prm\n",
    "read.prm('toppar/par_all36m_prot.prm', flex=True)\n",
    "\n",
    "# stream in the water/ions parameter using the pycharmm.lingo module\n",
    "# equivalent to the CHARMM scripting command: stream toppar/toppar_water_ions.str\n",
    "pycharmm.lingo.charmm_script('stream toppar/toppar_water_ions.str')"
   ]
  },
  {
   "cell_type": "code",
   "execution_count": 5,
   "metadata": {},
   "outputs": [
    {
     "ename": "",
     "evalue": "",
     "output_type": "error",
     "traceback": [
      "\u001b[1;31mThe Kernel crashed while executing code in the the current cell or a previous cell. Please review the code in the cell(s) to identify a possible cause of the failure. Click <a href='https://aka.ms/vscodeJupyterKernelCrash'>here</a> for more info. View Jupyter <a href='command:jupyter.viewOutput'>log</a> for further details."
     ]
    },
    {
     "ename": "",
     "evalue": "",
     "output_type": "error",
     "traceback": [
      "\u001b[1;31mCanceled future for execute_request message before replies were done"
     ]
    }
   ],
   "source": [
    "pdbid = '/home/trowray/acrb/pdb/1iwg'\n",
    "\n",
    "# Read the psf and coordinates for the solvated peptide\n",
    "# Read psf card name pdb/adp+wat.psf\n",
    "read.psf_card('{}+wat.psf'.format(pdbid))\n",
    "# read coor pdb name pdb/adp+wat_min.pdb\n",
    "read.pdb('{}+wat_min.pdb'.format(pdbid),resid=True)"
   ]
  },
  {
   "cell_type": "code",
   "execution_count": null,
   "metadata": {},
   "outputs": [],
   "source": [
    "# Now setup periodic boundaries\n",
    "# boxsize\n",
    "stats = coor.stat()\n",
    "xsize = stats['xmax'] - stats['xmin']\n",
    "ysize = stats['ymax'] - stats['ymin']\n",
    "zsize = stats['zmax'] - stats['zmin']\n",
    "boxsize = max(xsize, ysize, zsize)\n",
    "\n",
    "# half box size\n",
    "boxhalf = boxsize / 2.0\n",
    "# Note we could probably do something to extract the information passed to setup_PPC using pyCHARMM functions\n",
    "# but I didn't have the time so I just made some generic thing\n",
    "setup_PBC(boxhalf=boxhalf, protein_segments=['PROA', 'PROB', 'PROC'],\n",
    "          solvent_resname='TIP3',ions=['CLA', 'SOD', 'POT'],blade=False)"
   ]
  },
  {
   "cell_type": "code",
   "execution_count": null,
   "metadata": {},
   "outputs": [],
   "source": [
    "# Set-up non-bonded parameters\n",
    "# Now specify nonbonded cutoffs for solvated box\n",
    "cutnb = min(boxhalf,12)\n",
    "cutim = cutnb\n",
    "ctofnb = cutnb - 1.0\n",
    "ctonnb = cutnb - 3.0\n",
    "# Determine the appropriate cubic fft grid for this boxsize\n",
    "fft = checkfft(n=np.ceil(boxhalf)*2,margin=0)\n",
    "# Set-up the parameters\n",
    "nb_wPME_vsw = pycharmm.NonBondedScript(cutnb=cutnb, cutim=cutim,\n",
    "                                       ctonnb=ctonnb, ctofnb=ctofnb,\n",
    "                                       cdie=True, eps=1,\n",
    "                                       atom=True, vatom=True,\n",
    "                                       switch=True, vfswitch=False, vswitch=True,\n",
    "                                       inbfrq=-1, imgfrq=-1,\n",
    "                                       ewald=True,pmewald=True,kappa=0.32,\n",
    "                                       fftx=fft,ffty=fft,fftz=fft,order=4)\n",
    "# Let's set the wrnlev to 0 to avoid the large output\n",
    "old_wrnlev = settings.set_warn_level(0)\n",
    "nb_wPME_vsw.run()\n",
    "settings.set_warn_level(old_wrnlev)\n",
    "energy.show()\n",
    "# Let's also set-up a set of nonbonded parameters using vfswitch instead of vswitch\n",
    "nb_wPME_vfsw_dict = {'cutnb':cutnb, \n",
    "                     'cutim':cutim,\n",
    "                     'ctonnb':ctonnb, \n",
    "                     'ctofnb':ctofnb,\n",
    "                     'cdie':True,\n",
    "                     'eps':1,\n",
    "                     'atom':True, 'vatom':True,\n",
    "                     'switch':True, 'vfswitch':True, 'vswitch':False,\n",
    "                     'inbfrq':-1, 'imgfrq':-1,\n",
    "                     'ewald':True,'pmewald':True,'kappa':0.32,\n",
    "                     'fftx':fft,'ffty':fft,'fftz':fft,'order':4}\n",
    "# Let's set the wrnlev to 0 to avoid the large output\n",
    "old_wrnlev = settings.set_warn_level(0)\n",
    "pycharmm.NonBondedScript(**nb_wPME_vfsw_dict).run()\n",
    "settings.set_warn_level(old_wrnlev)\n",
    "energy.show()\n",
    "# Now go back to the original nonbonded parameters\n",
    "# Let's set the wrnlev to 0 to avoid the large output\n",
    "old_wrnlev = settings.set_warn_level(0)\n",
    "nb_wPME_vsw.run()\n",
    "settings.set_warn_level(old_wrnlev)\n",
    "energy.show()"
   ]
  },
  {
   "cell_type": "code",
   "execution_count": null,
   "metadata": {},
   "outputs": [],
   "source": [
    "def run_md(useomm=False,useblade=False,nequil=1000,nsteps=5000,nsavc=100,leap=True,lang=True):\n",
    "    if useomm: append='omm'\n",
    "    elif useblade: append='blade'\n",
    "    dyn.set_fbetas(np.full((psf.get_natom()),1.0,dtype=float))\n",
    "   \n",
    "    res_file = pycharmm.CharmmFile(file_name='res/{}.res'.format(pdbid), file_unit=2,\n",
    "                                   formatted=True,read_only=False)\n",
    "    lam_file = pycharmm.CharmmFile(file_name='res/{}.lam'.format(pdbid), \n",
    "                                   file_unit=3,\n",
    "                                   formatted=False,read_only=False)\n",
    "    my_dyn = pycharmm.DynamicsScript(leap=leap, lang=lang, start=True,\n",
    "                                     nstep=nequil, timest=0.002,\n",
    "                                     firstt=298.0, finalt=298.0, tbath=298.0,\n",
    "                                     tstruc=298.0,\n",
    "                                     teminc=0.0, twindh=0.0, twindl=0.0,\n",
    "                                     iunwri=res_file.file_unit,\n",
    "                                     iunlam=lam_file.file_unit,\n",
    "                                     inbfrq=-1, imgfrq=-1,\n",
    "                                     iasors=0, iasvel=1, ichecw=0, iscale=0,\n",
    "                                     iscvel=0,echeck=-1, nsavc=0, nsavv=0, nsavl=0, ntrfrq=0,\n",
    "                                     isvfrq=nsavc,\n",
    "                                     iprfrq=2*nsavc, nprint=nsavc, ihtfrq=0, ieqfrq=0,\n",
    "                                     ilbfrq=0,ihbfrq=0,\n",
    "                                     omm=useomm, blade=useblade)\n",
    "    my_dyn.run()\n",
    "\n",
    "    res_file.close()\n",
    "    lam_file.close()\n",
    "    # open unit 2 write form name res/{}.res\n",
    "    res_file = pycharmm.CharmmFile(file_name='res/{}.res'.format(pdbid), file_unit=2,\n",
    "                                   formatted=True,read_only=False)\n",
    "    lam_file = pycharmm.CharmmFile(file_name='res/{}.lam'.format(pdbid), \n",
    "                                   file_unit=3,\n",
    "                                   formatted=False,read_only=False)\n",
    "    # open unit 1 write file name dcd/{}.dcd\n",
    "    dcd_file = pycharmm.CharmmFile(file_name='dcd/{}_{}.dcd'.format(pdbid,append), file_unit=1,\n",
    "                                   formatted=False,read_only=False)\n",
    "\n",
    "    my_dyn = pycharmm.DynamicsScript(leap=leap, lang=lang, start=False, restart = True,\n",
    "                                     nstep=nsteps, timest=0.002,\n",
    "                                     firstt=298.0, finalt=298.0, tbath=298.0,\n",
    "                                     tstruc=298.0,\n",
    "                                     teminc=0.0, twindh=0.0, twindl=0.0,\n",
    "                                     iunwri=res_file.file_unit,\n",
    "                                     iunrea=res_file.file_unit,\n",
    "                                     iuncrd=dcd_file.file_unit,\n",
    "                                     iunlam=lam_file.file_unit,\n",
    "                                     inbfrq=-1, imgfrq=-1,\n",
    "                                     iasors=0, iasvel=1, ichecw=0, iscale=0,\n",
    "                                     iscvel=0,echeck=-1, nsavc=nsavc, nsavv=0, nsavl=0, ntrfrq=0,\n",
    "                                     isvfrq=nsavc,\n",
    "                                     iprfrq=2*nsavc, nprint=nsavc, ihtfrq=0, ieqfrq=0,\n",
    "                                     ilbfrq=0,ihbfrq=0,\n",
    "                                     omm=useomm, blade=useblade)\n",
    "    my_dyn.run()\n",
    "\n",
    "    res_file.close()\n",
    "    lam_file.close()\n",
    "    dcd_file.close()\n",
    "    return"
   ]
  },
  {
   "cell_type": "code",
   "execution_count": null,
   "metadata": {},
   "outputs": [],
   "source": [
    "# Set-up short dynamics\n",
    "if not os.path.isdir('res'): os.system('mkdir res')\n",
    "if not os.path.isdir('dcd'): os.system('mkdir dcd')\n",
    "# Check to see if cuda is available to run BLaDE\n",
    "import torch\n",
    "cuda  = torch.cuda.is_available()\n",
    "num_devices = torch.cuda.device_count()\n",
    "if cuda:\n",
    "    print('Running CHARMM/BLaDE MD example on computer with {} CUDA devices'.format(num_devices))\n",
    "    print('Running on device {} which is a {}'.format(torch.cuda.current_device(),torch.cuda.get_device_name(torch.cuda.current_device())))\n",
    "    run_md(useblade = 'prmc pref 1 iprs 100 prdv 100')\n",
    "else: print('Example not run, no CUDA devices available')"
   ]
  },
  {
   "cell_type": "code",
   "execution_count": null,
   "metadata": {},
   "outputs": [],
   "source": [
    "# Set-up short dynamics\n",
    "if not os.path.isdir('res'): os.system('mkdir res')\n",
    "if not os.path.isdir('dcd'): os.system('mkdir dcd')\n",
    "# Check to see if cuda is available to run OpenMM\n",
    "import torch\n",
    "cuda  = torch.cuda.is_available()\n",
    "num_devices = torch.cuda.device_count()\n",
    "if cuda:\n",
    "    print('Running CHARMM/OpenMM MD example on computer with {} CUDA devices'.format(num_devices))\n",
    "    print('Running on device {} which is a {}'.format(torch.cuda.current_device(),torch.cuda.get_device_name(torch.cuda.current_device())))\n",
    "else: print('No CUDA devices available, using either CPU or OpenCL')\n",
    "run_md(useomm = 'gamma 2 prmc pref 1 iprsfrq 100')"
   ]
  },
  {
   "cell_type": "code",
   "execution_count": null,
   "metadata": {},
   "outputs": [],
   "source": []
  }
 ],
 "metadata": {
  "kernelspec": {
   "display_name": "Python 3",
   "language": "python",
   "name": "python3"
  },
  "language_info": {
   "codemirror_mode": {
    "name": "ipython",
    "version": 3
   },
   "file_extension": ".py",
   "mimetype": "text/x-python",
   "name": "python",
   "nbconvert_exporter": "python",
   "pygments_lexer": "ipython3",
   "version": "3.9.6"
  },
  "orig_nbformat": 4,
  "vscode": {
   "interpreter": {
    "hash": "84bfe56d3a9e887b0d16adb4a956d7cff4823e3e18b2b91781246519ae37c619"
   }
  }
 },
 "nbformat": 4,
 "nbformat_minor": 2
}
